{
  "cells": [
    {
      "cell_type": "markdown",
      "metadata": {
        "id": "unOruT6CIoBz"
      },
      "source": [
        "write a program to implement tic tac toe game . this problem is generalised problem of cross or circle . represe nt the problem by using 3*3 matrix . player 1 is a user and player 2 is a computer. automatic game playing will be stopped when eiyher anyone wins the game or game is draw."
      ]
    },
    {
      "cell_type": "code",
      "execution_count": null,
      "metadata": {
        "colab": {
          "background_save": true
        },
        "id": "zv6e-hcHZZ6N"
      },
      "outputs": [],
      "source": [
        "\n",
        "\n",
        "import random\n",
        "\n",
        "\n",
        "def print_board(board):\n",
        "    for row in board:\n",
        "        print(\"|\".join(row))\n",
        "        print(\"-\" * 5)\n",
        "\n",
        "def check_winner(board, player):\n",
        "\n",
        "    for i in range(3):\n",
        "        if all(board[i][j] == player for j in range(3)) or all(board[j][i] == player for j in range(3)):\n",
        "            return True\n",
        "\n",
        "\n",
        "    if all(board[i][i] == player for i in range(3)) or all(board[i][2 - i] == player for i in range(3)):\n",
        "        return True\n",
        "\n",
        "    return False\n",
        "\n",
        "def is_board_full(board):\n",
        "    return all(board[i][j] != \" \" for i in range(3) for j in range(3))\n",
        "\n",
        "def player_move(board, player):\n",
        "    while True:\n",
        "        row = int(input(f\"Player {player}, enter row (0, 1, or 2): \"))\n",
        "        col = int(input(f\"Player {player}, enter column (0, 1, or 2): \"))\n",
        "\n",
        "        if board[row][col] == \" \":\n",
        "            board[row][col] = player\n",
        "            break\n",
        "        else:\n",
        "            print(\"Cell already occupied. Try again.\")\n",
        "\n",
        "def computer_move(board, player):\n",
        "    print(f\"Computer ({player}) is making a move...\")\n",
        "    while True:\n",
        "        row = random.randint(0, 2)\n",
        "        col = random.randint(0, 2)\n",
        "\n",
        "        if board[row][col] == \" \":\n",
        "            board[row][col] = player\n",
        "            break\n",
        "\n",
        "def play_tic_tac_toe():\n",
        "    board = [[\" \" for _ in range(3)] for _ in range(3)]\n",
        "    player = \"X\"\n",
        "    computer = \"O\"\n",
        "\n",
        "    while True:\n",
        "        print_board(board)\n",
        "\n",
        "        if player == \"X\":\n",
        "            player_move(board, player)\n",
        "        else:\n",
        "            computer_move(board, player)\n",
        "\n",
        "        if check_winner(board, player):\n",
        "            print_board(board)\n",
        "            print(f\"Player {player} wins!\")\n",
        "            break\n",
        "        elif is_board_full(board):\n",
        "            print_board(board)\n",
        "            print(\"It's a tie!\")\n",
        "            break\n",
        "        else:\n",
        "            player = \"O\" if player == \"X\" else \"X\"\n",
        "\n",
        "if __name__ == \"__main__\":\n",
        "    play_tic_tac_toe()\n",
        "\n"
      ]
    }
  ],
  "metadata": {
    "colab": {
      "provenance": []
    },
    "kernelspec": {
      "display_name": "Python 3",
      "name": "python3"
    },
    "language_info": {
      "name": "python"
    }
  },
  "nbformat": 4,
  "nbformat_minor": 0
}